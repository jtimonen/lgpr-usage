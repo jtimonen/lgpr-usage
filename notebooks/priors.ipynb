{
 "cells": [
  {
   "cell_type": "markdown",
   "metadata": {},
   "source": [
    "# Prior distributions in the proteomics data set analysis\n",
    "This notebook describes the prior distributions used in the proteomics data analysis."
   ]
  },
  {
   "cell_type": "code",
   "execution_count": 1,
   "metadata": {},
   "outputs": [
    {
     "name": "stderr",
     "output_type": "stream",
     "text": [
      "Loading required package: lgpr\n",
      "Hello, this is lgpr (version 0.28.3).\n",
      "Loading required package: repr\n",
      "Loading required package: ggplot2\n",
      "Loading required package: rstan\n",
      "Loading required package: StanHeaders\n",
      "rstan (Version 2.19.2, GitRev: 2e1f913d3ca3)\n",
      "For execution on a local, multicore CPU with excess RAM we recommend calling\n",
      "options(mc.cores = parallel::detectCores()).\n",
      "To avoid recompilation of unchanged Stan programs, we recommend calling\n",
      "rstan_options(auto_write = TRUE)\n",
      "Loading required package: invgamma\n"
     ]
    },
    {
     "name": "stdout",
     "output_type": "stream",
     "text": [
      "Read data for protein 'O94769'. \n",
      "Removed 9 rows with NaN value for the response variable.\n"
     ]
    }
   ],
   "source": [
    "require(lgpr)\n",
    "require(repr)\n",
    "require(ggplot2)\n",
    "require(rstan)\n",
    "require(invgamma)\n",
    "\n",
    "dataDir <-  \"../data/proteomics/\"  # Set path to data here\n",
    "i_prot  <- 450                     # Set protein idx (1-1538) here\n",
    "\n",
    "readLiuData <- function(dataDir, protein){\n",
    "  fn_X   <- paste(dataDir,\"/liu_preproc_X.csv\",sep=\"\")\n",
    "  fn_Y   <- paste(dataDir,\"/liu_preproc_Y.csv\",sep=\"\")\n",
    "  X_data <- read.csv(fn_X, header=TRUE, sep=\",\")\n",
    "  X_data <- X_data[,1:5]\n",
    "  Y_data <- read.csv(fn_Y, header=TRUE, sep=\",\")\n",
    "  names  <- colnames(Y_data)\n",
    "  if(!is.character(protein)){\n",
    "    pname <- names[protein]\n",
    "  }else{\n",
    "    pname <- protein\n",
    "  }\n",
    "  \n",
    "  cat(\"Read data for protein '\", pname, \"'. \\n\", sep = \"\")\n",
    "  y      <- Y_data[[pname]]\n",
    "  notnan <- which(!is.nan(y))\n",
    "  n_nan  <- length(which(is.nan(y)))\n",
    "  data   <- data.frame(cbind(X_data, y))\n",
    "  data   <- data[notnan, ]\n",
    "  cat(\"Removed \", n_nan , \" rows with NaN value for the response variable.\\n\", sep = \"\")\n",
    "  return(data)\n",
    "}\n",
    "\n",
    "\n",
    "FONT_SIZE <- 16\n",
    "options(repr.plot.width=5, repr.plot.height=3)\n",
    "data <- readLiuData(dataDir, i_prot)"
   ]
  },
  {
   "cell_type": "markdown",
   "metadata": {},
   "source": [
    "## 1. Sampling from the prior\n",
    "We can sample from the prior by setting `likelihood=\"none\"`. We also want to set `skip_postproc=TRUE` to avoid computing generated quantities."
   ]
  },
  {
   "cell_type": "code",
   "execution_count": 2,
   "metadata": {},
   "outputs": [
    {
     "name": "stderr",
     "output_type": "stream",
     "text": [
      "Scale for 'x' is already present. Adding another scale for 'x', which will\n",
      "replace the existing scale.\n",
      "Warning message:\n",
      "“Removed 1 rows containing missing values (geom_path).”"
     ]
    },
    {
     "data": {
      "image/png": "[encoded data removed]",
      "text/plain": [
       "plot without title"
      ]
     },
     "metadata": {},
     "output_type": "display_data"
    }
   ],
   "source": [
    "fit   <- lgp(formula      = y ~ id + age + diseaseAge + sex + group,\n",
    "            data          = data,\n",
    "            prior         = prior_default(),\n",
    "            offset_vars   = \"group\",\n",
    "            equal_effect  = TRUE,\n",
    "            likelihood    = \"none\",\n",
    "            skip_postproc = TRUE,\n",
    "            verbose       = FALSE,\n",
    "            chains        = 4, \n",
    "            iter          = 2000,\n",
    "            refresh       = 0)\n",
    "\n",
    "fun <- function(x){ x^2 }\n",
    "plt <- plot_samples(fit, pars = c(\"sigma_n[1]\"), type = \"dens\", transformations = fun) \n",
    "plt <- plt + theme(text=element_text(size=FONT_SIZE)) + xlim(0,4)\n",
    "\n",
    "# Compare kernel density estimate of samples of sigma_n^2 to inverse-Gamma(2,1)\n",
    "T  <- 300\n",
    "t  <- seq(0, 4, length.out = T)\n",
    "p  <- dinvgamma(t, shape = 2, rate = 1)\n",
    "df <- data.frame(t, p)\n",
    "plt <- plt + geom_line(data = df, aes(x=t,y=p), color = 'steelblue2') + xlab(expression(sigma[n]^2))\n",
    "plt"
   ]
  },
  {
   "cell_type": "markdown",
   "metadata": {},
   "source": [
    "## 2. All priors"
   ]
  },
  {
   "cell_type": "code",
   "execution_count": null,
   "metadata": {},
   "outputs": [],
   "source": []
  }
 ],
 "metadata": {
  "kernelspec": {
   "display_name": "R",
   "language": "R",
   "name": "ir"
  },
  "language_info": {
   "codemirror_mode": "r",
   "file_extension": ".r",
   "mimetype": "text/x-r-source",
   "name": "R",
   "pygments_lexer": "r",
   "version": "3.4.4"
  }
 },
 "nbformat": 4,
 "nbformat_minor": 2
}
